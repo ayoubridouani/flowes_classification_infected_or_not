{
 "cells": [
  {
   "cell_type": "code",
   "execution_count": 1,
   "metadata": {},
   "outputs": [],
   "source": [
    "import pandas as pd\n",
    "import numpy as np\n",
    "import glob, os, csv\n",
    "import cv2, imutils, mahotas\n",
    "import skimage.feature.texture as sft"
   ]
  },
  {
   "cell_type": "markdown",
   "metadata": {},
   "source": [
    "# Features Extraction"
   ]
  },
  {
   "cell_type": "code",
   "execution_count": 2,
   "metadata": {},
   "outputs": [],
   "source": [
    "def describe(img):\n",
    "    global_features = []\n",
    "    img_gray = cv2.cvtColor(img, cv2.COLOR_BGR2GRAY)\n",
    "    img_hsv = cv2.cvtColor(img, cv2.COLOR_BGR2HSV)\n",
    "\n",
    "    R, G, B = img[:,:,0], img[:,:,1], img[:,:,2]\n",
    "    feature = [np.mean(R), np.std(R), np.mean(G), np.std(G), np.mean(B), np.std(B)]\n",
    "    global_features.extend(feature/np.mean(feature))\n",
    "\n",
    "    hist = cv2.calcHist([img_hsv], [0, 1, 2], None, (8, 2, 2), [0, 256, 0, 256, 0, 256])\n",
    "    cv2.normalize(hist, hist)\n",
    "    global_features.extend(hist.flatten())      \n",
    "\n",
    "    glcm = sft.greycomatrix(img_gray, distances = [1], angles = [0], symmetric=True, normed=True)\n",
    "    props = ['contrast', 'correlation', 'energy', 'homogeneity']\n",
    "    feature = [sft.greycoprops(glcm, prop).ravel()[0] for prop in props]\n",
    "    feature = feature / np.sum(feature)\n",
    "    global_features.extend(feature)\n",
    "\n",
    "    feature = mahotas.features.haralick(img_gray).ravel()\n",
    "    global_features.extend(feature)\n",
    "    \n",
    "    feature = cv2.HuMoments(cv2.moments(img_gray)).flatten()\n",
    "    global_features.extend(feature)\n",
    "\n",
    "    return global_features"
   ]
  },
  {
   "cell_type": "markdown",
   "metadata": {},
   "source": [
    "# Features Indexing"
   ]
  },
  {
   "cell_type": "code",
   "execution_count": 3,
   "metadata": {
    "scrolled": true
   },
   "outputs": [],
   "source": [
    "def index_feature(indexPathTrain,databasePathTrain):\n",
    "    output = open(indexPathTrain, \"w\")\n",
    "\n",
    "    for imagePath in glob.glob(databasePathTrain + os.path.sep + \"*\" + os.path.sep + \"*.*\"):\n",
    "        imageID = imagePath.split(os.path.sep)[-1] # extract the name of each photo\n",
    "        target = imagePath.split(os.path.sep)[-2] # extract the class of each photo\n",
    "\n",
    "        image = cv2.imread(imagePath)\n",
    "        features = describe(image)\n",
    "        features = [str(f) for f in features]\n",
    "\n",
    "        output.write(\"%s,%s\\n\" % (imageID + \",\" + target, \",\".join(features)))\n",
    "\n",
    "    output.close()"
   ]
  },
  {
   "cell_type": "code",
   "execution_count": 4,
   "metadata": {},
   "outputs": [],
   "source": [
    "indexPathTrain = \"index_train.csv\"\n",
    "\n",
    "databasePathTrain = \"PlantDiseaseDataSet/train\"\n",
    "index_feature(indexPathTrain, databasePathTrain)\n",
    "\n",
    "data = np.genfromtxt(indexPathTrain, delimiter=',',dtype=str)\n",
    "\n",
    "X_train = np.array(data[:,2:],dtype=np.float64)\n",
    "Y_train = data[:,1]\n",
    "\n",
    "del data"
   ]
  },
  {
   "cell_type": "markdown",
   "metadata": {},
   "source": [
    "# Data Preprocessing"
   ]
  },
  {
   "cell_type": "code",
   "execution_count": 5,
   "metadata": {},
   "outputs": [],
   "source": [
    "from sklearn.preprocessing import StandardScaler\n",
    "\n",
    "std_scaler = StandardScaler()\n",
    "X_train = std_scaler.fit_transform(X_train)"
   ]
  },
  {
   "cell_type": "markdown",
   "metadata": {},
   "source": [
    "# Training"
   ]
  },
  {
   "cell_type": "code",
   "execution_count": 6,
   "metadata": {},
   "outputs": [
    {
     "name": "stdout",
     "output_type": "stream",
     "text": [
      "CPU times: user 6.3 ms, sys: 22 µs, total: 6.32 ms\n",
      "Wall time: 6.35 ms\n",
      "score:  0.9505494505494505\n"
     ]
    },
    {
     "name": "stderr",
     "output_type": "stream",
     "text": [
      "/home/pfisher/.local/lib/python3.7/site-packages/sklearn/svm/base.py:193: FutureWarning: The default value of gamma will change from 'auto' to 'scale' in version 0.22 to account better for unscaled features. Set gamma explicitly to 'auto' or 'scale' to avoid this warning.\n",
      "  \"avoid this warning.\", FutureWarning)\n"
     ]
    }
   ],
   "source": [
    "from sklearn import svm\n",
    "\n",
    "clf=svm.SVC(kernel=\"rbf\")\n",
    "%time clf.fit(X_train,Y_train)\n",
    "\n",
    "print(\"score: \", clf.score(X_train,Y_train))"
   ]
  },
  {
   "cell_type": "markdown",
   "metadata": {},
   "source": [
    "# Validation"
   ]
  },
  {
   "cell_type": "code",
   "execution_count": 7,
   "metadata": {},
   "outputs": [],
   "source": [
    "indexPathValidation = \"index_validation.csv\"\n",
    "\n",
    "databasePathValidation = \"PlantDiseaseDataSet/validation\"\n",
    "index_feature(indexPathValidation, databasePathValidation)\n",
    "\n",
    "data = np.genfromtxt(indexPathValidation, delimiter=',',dtype=str)\n",
    "\n",
    "X_validation = np.array(data[:,2:],dtype=np.float64)\n",
    "Y_validation = data[:,1]\n",
    "\n",
    "del data"
   ]
  },
  {
   "cell_type": "code",
   "execution_count": 8,
   "metadata": {},
   "outputs": [],
   "source": [
    "from sklearn.preprocessing import StandardScaler\n",
    "\n",
    "std_scaler = StandardScaler()\n",
    "X_validation = std_scaler.fit_transform(X_validation)"
   ]
  },
  {
   "cell_type": "code",
   "execution_count": 9,
   "metadata": {},
   "outputs": [
    {
     "name": "stdout",
     "output_type": "stream",
     "text": [
      "0.8679245283018868\n"
     ]
    }
   ],
   "source": [
    "y_validation_pred = clf.predict(X_validation)\n",
    "\n",
    "k=0\n",
    "for i in range(0,len(y_validation_pred)):\n",
    "    if Y_validation[i] == y_validation_pred[i]:\n",
    "        k += 1\n",
    "print(k/len(y_validation_pred))"
   ]
  },
  {
   "cell_type": "markdown",
   "metadata": {},
   "source": [
    "# Test"
   ]
  },
  {
   "cell_type": "code",
   "execution_count": 10,
   "metadata": {},
   "outputs": [],
   "source": [
    "def index_test_feature(indexPathTest):\n",
    "    databasePathTest = \"PlantDiseaseDataSet/test\"\n",
    "    output = open(indexPathTest, \"w\")\n",
    "    \n",
    "    for imagePath in glob.glob(databasePathTest + os.sep + \"*.*\"):\n",
    "        imageID = imagePath.split(os.path.sep)[-1]\n",
    "\n",
    "        image = cv2.imread(imagePath)\n",
    "        features = describe(image)\n",
    "        features = [str(f) for f in features]\n",
    "\n",
    "        output.write(\"%s,%s\\n\" % (imageID, \",\".join(features)))\n",
    "\n",
    "    output.close()"
   ]
  },
  {
   "cell_type": "code",
   "execution_count": 11,
   "metadata": {
    "scrolled": true
   },
   "outputs": [],
   "source": [
    "indexPathTest = \"index_test.csv\"\n",
    "\n",
    "index_test_feature(indexPathTest)\n",
    "\n",
    "data = np.genfromtxt(indexPathTest, delimiter=',',dtype=str)\n",
    "\n",
    "X_test = np.array(data[:,1:],dtype=np.float64)\n",
    "image_name = data[:,0]\n",
    "del data"
   ]
  },
  {
   "cell_type": "code",
   "execution_count": 12,
   "metadata": {},
   "outputs": [
    {
     "name": "stdout",
     "output_type": "stream",
     "text": [
      "9284bd52-df45-4fc3-aaa6-4323666b41c4___RS_HL 7348_flipTB.JPG  =>  saine\n",
      "76367d84-6702-4ef7-84f1-fe308315d04d___RS_HL 5967_flipTB.JPG  =>  saine\n",
      "1d4dee76-8af5-4bce-ba44-ef87ffd664de___FREC_C.Rust 3628_newGRR.JPG  =>  malade\n",
      "1cfc6e73-1d86-4fb9-bffb-010163531711___FREC_C.Rust 3944_newGRR.JPG  =>  malade\n",
      "0ca16873-eeac-47e9-9a87-1859950daab7___JR_FrgE.S 2835_new30degFlipLR.JPG  =>  malade\n",
      "990838f4-b976-45bb-859d-95de901acc8c___RS_HL 7365.JPG  =>  saine\n",
      "350182de-38b1-43bf-b189-1fec53a7f499___RS_HL 7867_flipTB.JPG  =>  saine\n",
      "8f3ed2e0-268d-485c-bfd0-0911db9ab888___JR_FrgE.S 8820.JPG  =>  malade\n",
      "0ca16873-eeac-47e9-9a87-1859950daab7___JR_FrgE.S 2835_270deg.JPG  =>  malade\n",
      "3643fe1d-9523-47cf-9952-7e2ecb027338___RS_HL 5704.JPG  =>  saine\n",
      "6627c6e7-9d4f-41a7-9d86-ad04cfe2841a___RS_HL 7442_flipTB.JPG  =>  saine\n",
      "1a69060b-e45e-4d95-881c-f6d1960dffcd___FREC_C.Rust 0065_newGRR.JPG  =>  malade\n",
      "3bf50ea4-980e-471b-bbd1-fc0c526dbb7a___JR_FrgE.S 2905_90deg.JPG  =>  malade\n",
      "34960f92-a973-4d36-b388-f63b339b86bc___RS_HL 6167_flipTB.JPG  =>  saine\n",
      "567114a3-0ce7-42e3-8245-ca6f3e27cf43___RS_HL 8001.JPG  =>  saine\n",
      "8a1bb676-5d3e-423b-a667-c72d099215ab___JR_FrgE.S 2842_new30degFlipLR.JPG  =>  malade\n",
      "953076be-ed87-4a45-a553-48cd555b63bb___RS_HL 7888_flipTB.JPG  =>  saine\n",
      "2f6a52cd-21f5-41d0-870e-f8a67d1f5c56___JR_FrgE.S 2901_90deg.JPG  =>  malade\n",
      "13575fc3-1674-4511-a124-2ed065f00cda___RS_HL 7351_flipTB.JPG  =>  saine\n",
      "3bf50ea4-980e-471b-bbd1-fc0c526dbb7a___JR_FrgE.S 2905.JPG  =>  malade\n",
      "953076be-ed87-4a45-a553-48cd555b63bb___RS_HL 7888.JPG  =>  saine\n",
      "1b567c7d-1041-4240-a56c-8ea94e6252b4___FREC_C.Rust 4245_newGRR.JPG  =>  malade\n",
      "2f6a52cd-21f5-41d0-870e-f8a67d1f5c56___JR_FrgE.S 2901.JPG  =>  saine\n",
      "41969f52-e194-401e-a55b-4ff88f740a8a___RS_HL 6125.JPG  =>  saine\n",
      "449205c0-c994-4e4f-9ea4-ef7fa45f2151___RS_HL 7730_flipTB.JPG  =>  malade\n",
      "3bf50ea4-980e-471b-bbd1-fc0c526dbb7a___JR_FrgE.S 2905_270deg.JPG  =>  malade\n",
      "5192db55-4aa7-421c-92d4-c2dac79e7379___RS_HL 6273_flipTB.JPG  =>  saine\n",
      "8f3ed2e0-268d-485c-bfd0-0911db9ab888___JR_FrgE.S 8820_new30degFlipLR.JPG  =>  malade\n"
     ]
    }
   ],
   "source": [
    "X_test = std_scaler.fit_transform(X_test)\n",
    "\n",
    "pred = clf.predict(X_test)\n",
    "\n",
    "for i in range(0,len(pred)):\n",
    "    print(image_name[i], \" => \", pred[i])"
   ]
  }
 ],
 "metadata": {
  "kernelspec": {
   "display_name": "Python 3",
   "language": "python",
   "name": "python3"
  },
  "language_info": {
   "codemirror_mode": {
    "name": "ipython",
    "version": 3
   },
   "file_extension": ".py",
   "mimetype": "text/x-python",
   "name": "python",
   "nbconvert_exporter": "python",
   "pygments_lexer": "ipython3",
   "version": "3.7.4"
  }
 },
 "nbformat": 4,
 "nbformat_minor": 4
}
